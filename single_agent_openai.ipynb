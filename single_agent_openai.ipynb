{
 "cells": [
  {
   "cell_type": "markdown",
   "id": "79d1badc",
   "metadata": {},
   "source": [
    "- Agentic ai with crewai - openai models"
   ]
  },
  {
   "cell_type": "code",
   "execution_count": 1,
   "id": "9675a775",
   "metadata": {},
   "outputs": [
    {
     "name": "stderr",
     "output_type": "stream",
     "text": [
      "c:\\Users\\DELL\\anaconda3\\envs\\agent_demo\\Lib\\site-packages\\pydantic\\_internal\\_generate_schema.py:898: UserWarning: Mixing V1 models and V2 models (or constructs, like `TypeAdapter`) is not supported. Please upgrade `CrewAgentExecutor` to V2.\n",
      "  warn(\n",
      "c:\\Users\\DELL\\anaconda3\\envs\\agent_demo\\Lib\\site-packages\\pydantic\\_internal\\_generate_schema.py:898: UserWarning: Mixing V1 models and V2 models (or constructs, like `TypeAdapter`) is not supported. Please upgrade `Adapter` to V2.\n",
      "  warn(\n"
     ]
    }
   ],
   "source": [
    "import os\n",
    "from dotenv import load_dotenv\n",
    "from crewai import Agent, Task, Crew\n",
    "from crewai_tools import SerperDevTool\n",
    "from langchain_openai import ChatOpenAI"
   ]
  },
  {
   "cell_type": "code",
   "execution_count": 2,
   "id": "706b53a2",
   "metadata": {},
   "outputs": [],
   "source": [
    "load_dotenv()\n",
    "\n",
    "SERPER_API_KEY = os.getenv(\"SERPER_API_KEY\")\n",
    "OPENAI_API_KEY = os.getenv(\"OPENAI_API_KEY\")\n"
   ]
  },
  {
   "cell_type": "code",
   "execution_count": 3,
   "id": "fd6544d2",
   "metadata": {},
   "outputs": [],
   "source": [
    "\n",
    "search_tool = SerperDevTool()"
   ]
  },
  {
   "cell_type": "code",
   "execution_count": 4,
   "id": "36e491c6",
   "metadata": {},
   "outputs": [],
   "source": [
    "def create_research_agent():\n",
    "\n",
    "    llm = ChatOpenAI(model=\"gpt-3.5-turbo\")\n",
    "  \n",
    "    return Agent(\n",
    "        role=\"Research Specialist\",\n",
    "        goal=\"Conduct thorough research on given topics\",\n",
    "        backstory=\"You are an experienced researcher with expertise in finding and synthesizing information from various sources\",\n",
    "        verbose=True,\n",
    "        allow_delegation=False,\n",
    "        tools=[search_tool],\n",
    "        llm=llm,\n",
    "    )"
   ]
  },
  {
   "cell_type": "code",
   "execution_count": 5,
   "id": "284445d3",
   "metadata": {},
   "outputs": [],
   "source": [
    "def create_research_task(agent, topic):\n",
    "    return Task(\n",
    "        description=f\"Research the following topic and provide a comprehensive summary: {topic}\",\n",
    "        agent=agent,\n",
    "        expected_output = \"A detailed summary of the research findings, including key points and insights related to the topic\"\n",
    "    )"
   ]
  },
  {
   "cell_type": "code",
   "execution_count": 6,
   "id": "c7de54ad",
   "metadata": {},
   "outputs": [],
   "source": [
    "\n",
    "def run_research(topic):\n",
    "    agent = create_research_agent()\n",
    "    task = create_research_task(agent, topic)\n",
    "    crew = Crew(agents=[agent], tasks=[task])\n",
    "    result = crew.kickoff()\n",
    "    return result\n"
   ]
  },
  {
   "cell_type": "code",
   "execution_count": 7,
   "id": "e3c0b2c7",
   "metadata": {},
   "outputs": [
    {
     "name": "stdout",
     "output_type": "stream",
     "text": [
      "Welcome to the Research Agent!\n",
      "\n",
      "\n",
      "\u001b[1m> Entering new CrewAgentExecutor chain...\u001b[0m\n",
      "\u001b[32;1m\u001b[1;3mI need to gather the most recent updates on the ongoing conflict between Pakistan and India.\n",
      "\n",
      "Action: Search the internet\n",
      "Action Input: {\"search_query\": \"latest update on Pakistan and India war\"}\u001b[0m\u001b[93m \n",
      "\n",
      "\n",
      "Search results: Title: India-Pakistan tensions continue to simmer across Kashmir border\n",
      "Link: https://www.aljazeera.com/news/2025/4/29/india-and-pakistan-tensions-continue-to-simmer-across-kashmir-border\n",
      "Snippet: India has accused Pakistan of funding and encouraging “cross-border terrorism” in Muslim-majority Kashmir following last week's gun attack ...\n",
      "---\n",
      "Title: India and Pakistan are on war footing. Can they be brought back ...\n",
      "Link: https://theconversation.com/india-and-pakistan-are-on-war-footing-can-they-be-brought-back-from-the-brink-255504\n",
      "Snippet: Pakistan believes an Indian 'military incursion' is imminent, following a terror attack last week in Kashmir. Will nuclear deterrence be ...\n",
      "---\n",
      "Title: Pakistan defence minister says military incursion by India is imminent\n",
      "Link: https://www.reuters.com/world/pakistan-defence-minister-says-military-incursion-by-india-is-imminent-2025-04-28/\n",
      "Snippet: India has suspended the Indus Waters Treaty - an important river-sharing pact. Pakistan has closed its airspace to Indian airlines. Asif said it ...\n",
      "---\n",
      "Title: India-Pakistan war fallout would spread far and wide - Asia Times\n",
      "Link: https://asiatimes.com/2025/04/india-pakistan-war-fallout-would-spread-far-and-wide/\n",
      "Snippet: Global investors are watching with rising anxiety as tensions between India and Pakistan threaten to spiral into open armed conflict.\n",
      "---\n",
      "Title: A massacre has reignited the forever war between India and Pakistan\n",
      "Link: https://www.theguardian.com/commentisfree/2025/apr/29/india-pakistan-kashmir-war-massacre\n",
      "Snippet: By all accounts, the 26 people killed last week in a picturesque meadow in Pahalgam in Kashmir were selected for slaughter by the militants on ...\n",
      "---\n",
      "Title: Pakistan Minister Warns of 'Immediate Threat' of India War\n",
      "Link: https://www.bloomberg.com/news/articles/2025-04-28/pakistan-minister-warns-of-immediate-threat-of-war-with-india\n",
      "Snippet: Pakistan has denied any links to the attacks and retaliated by expelling Indian diplomats from Islamabad, closing its airspace to Indian-owned ...\n",
      "---\n",
      "Title: Pakistan's Empty Threats To India On Indus Treaty Suspension!\n",
      "Link: https://www.youtube.com/watch?v=mJN0NSIyp1I\n",
      "Snippet: India-Pakistan Conflict LIVE: Pakistan's Empty Threats To India On Indus Treaty Suspension! | WION In a major move, India has suspended the ...\n",
      "---\n",
      "Title: The War Room: Is an India-Pakistan war coming? - The Economist\n",
      "Link: https://www.economist.com/asia/2025/04/28/the-war-room-is-an-india-pakistan-war-coming\n",
      "Snippet: India and Pakistan are on the brink of another war—or, at least, a skirmish. On April 22nd armed men entered a beautiful meadow in the Baisaran ...\n",
      "---\n",
      "Title: India, Pakistan exchange small arms fire, China urges restraint\n",
      "Link: https://www.reuters.com/world/asia-pacific/india-pakistan-exchange-small-arms-fire-across-kashmir-border-fourth-night-2025-04-28/\n",
      "Snippet: India said it had responded to 'unprovoked' small arms firing from Pakistan along the de facto border for the fourth consecutive night, ...\n",
      "---\n",
      "\n",
      "\u001b[00m\n",
      "\u001b[32;1m\u001b[1;3m\u001b[0m\u001b[32;1m\u001b[1;3mThought: I now can give a great answer\n",
      "\n",
      "Final Answer: \n",
      "\n",
      "The ongoing conflict between Pakistan and India continues to escalate, with tensions running high across the Kashmir border. India has accused Pakistan of funding and encouraging \"cross-border terrorism\" in Muslim-majority Kashmir. Pakistan, on the other hand, believes that an Indian military incursion is imminent, following a recent terror attack in Kashmir. Both countries have taken measures such as suspending the Indus Waters Treaty, closing airspace to each other's airlines, and expelling diplomats.\n",
      "\n",
      "Global investors are closely monitoring the situation as the threat of open armed conflict looms. The recent massacre of 26 individuals in Kashmir has reignited the conflict between the two nations. There are concerns about the potential fallout of a war between India and Pakistan, with neighboring countries and the international community expressing worry about the implications.\n",
      "\n",
      "The possibility of an India-Pakistan war or skirmish is a topic of discussion and concern, with both countries exchanging small arms fire across the Kashmir border. China has urged restraint and called for a peaceful resolution to the escalating tensions. The situation remains volatile, and the risk of a full-scale conflict remains high. Both India and Pakistan are on war footing, raising questions about the possibility of de-escalation and the impact of nuclear deterrence.\n",
      "\n",
      "Overall, the conflict between Pakistan and India remains a critical issue with far-reaching implications, and efforts to diffuse tensions and prevent further escalation are crucial for regional stability.\u001b[0m\n",
      "\n",
      "\u001b[1m> Finished chain.\u001b[0m\n",
      "Research Result:\n",
      "The ongoing conflict between Pakistan and India continues to escalate, with tensions running high across the Kashmir border. India has accused Pakistan of funding and encouraging \"cross-border terrorism\" in Muslim-majority Kashmir. Pakistan, on the other hand, believes that an Indian military incursion is imminent, following a recent terror attack in Kashmir. Both countries have taken measures such as suspending the Indus Waters Treaty, closing airspace to each other's airlines, and expelling diplomats.\n",
      "\n",
      "Global investors are closely monitoring the situation as the threat of open armed conflict looms. The recent massacre of 26 individuals in Kashmir has reignited the conflict between the two nations. There are concerns about the potential fallout of a war between India and Pakistan, with neighboring countries and the international community expressing worry about the implications.\n",
      "\n",
      "The possibility of an India-Pakistan war or skirmish is a topic of discussion and concern, with both countries exchanging small arms fire across the Kashmir border. China has urged restraint and called for a peaceful resolution to the escalating tensions. The situation remains volatile, and the risk of a full-scale conflict remains high. Both India and Pakistan are on war footing, raising questions about the possibility of de-escalation and the impact of nuclear deterrence.\n",
      "\n",
      "Overall, the conflict between Pakistan and India remains a critical issue with far-reaching implications, and efforts to diffuse tensions and prevent further escalation are crucial for regional stability.\n"
     ]
    }
   ],
   "source": [
    "\n",
    "if __name__ == \"__main__\":\n",
    "    print(\"Welcome to the Research Agent!\")\n",
    "    topic = input(\"Enter the research topic: \")\n",
    "    result = run_research(topic)\n",
    "    print(\"Research Result:\")\n",
    "    print(result)"
   ]
  },
  {
   "cell_type": "code",
   "execution_count": null,
   "id": "5a144466",
   "metadata": {},
   "outputs": [],
   "source": []
  }
 ],
 "metadata": {
  "kernelspec": {
   "display_name": "agent_demo",
   "language": "python",
   "name": "python3"
  },
  "language_info": {
   "codemirror_mode": {
    "name": "ipython",
    "version": 3
   },
   "file_extension": ".py",
   "mimetype": "text/x-python",
   "name": "python",
   "nbconvert_exporter": "python",
   "pygments_lexer": "ipython3",
   "version": "3.11.11"
  }
 },
 "nbformat": 4,
 "nbformat_minor": 5
}
